{
  "nbformat": 4,
  "nbformat_minor": 0,
  "metadata": {
    "kernelspec": {
      "display_name": "R",
      "language": "R",
      "name": "ir"
    },
    "language_info": {
      "codemirror_mode": "r",
      "file_extension": ".r",
      "mimetype": "text/x-r-source",
      "name": "R",
      "pygments_lexer": "r",
      "version": "3.3.1"
    },
    "colab": {
      "name": "Format_primers.ipynb",
      "provenance": [],
      "collapsed_sections": [],
      "machine_shape": "hm",
      "include_colab_link": true
    },
    "accelerator": "GPU"
  },
  "cells": [
    {
      "cell_type": "markdown",
      "metadata": {
        "id": "view-in-github",
        "colab_type": "text"
      },
      "source": [
        "<a href=\"https://colab.research.google.com/github/yyw-informatics/MSSPE_datasets/blob/main/Format_primers.ipynb\" target=\"_parent\"><img src=\"https://colab.research.google.com/assets/colab-badge.svg\" alt=\"Open In Colab\"/></a>"
      ]
    },
    {
      "cell_type": "markdown",
      "metadata": {
        "id": "4TLq2MbDD3zq"
      },
      "source": [
        "#  Format the raw primer data for analysis\n"
      ]
    },
    {
      "cell_type": "code",
      "metadata": {
        "id": "hv8nq9sjEzhx"
      },
      "source": [
        "required_packages <- c(\n",
        "  'dplyr','tidyr','stringi'\n",
        " )"
      ],
      "execution_count": 53,
      "outputs": []
    },
    {
      "cell_type": "code",
      "metadata": {
        "id": "FDu62M5JFJZt"
      },
      "source": [
        "missing_packages <- required_packages[!required_packages %in% rownames(installed.packages())]\n",
        "if (length(missing_packages) > 0){\n",
        "    install(missing_packages)\n",
        "}"
      ],
      "execution_count": 54,
      "outputs": []
    },
    {
      "cell_type": "code",
      "metadata": {
        "id": "6dmNxQoQYIB4"
      },
      "source": [
        "library(dplyr)\n",
        "library(tidyr)\n",
        "library(stringi)"
      ],
      "execution_count": 55,
      "outputs": []
    },
    {
      "cell_type": "code",
      "source": [
        "csv_list <- c(\n",
        "  \"https://raw.githubusercontent.com/yyw-informatics/MSSPE_datasets/main/primer_sets/raw_data_from_paper/CCHF_segment_L_primer_sets.csv\",\n",
        "  \"https://raw.githubusercontent.com/yyw-informatics/MSSPE_datasets/main/primer_sets/raw_data_from_paper/CCHF_segment_M_primer_sets.csv\",\n",
        "  \"https://raw.githubusercontent.com/yyw-informatics/MSSPE_datasets/main/primer_sets/raw_data_from_paper/CCHF_segment_S_primer_sets.csv\",\n",
        "  \"https://raw.githubusercontent.com/yyw-informatics/MSSPE_datasets/main/primer_sets/raw_data_from_paper/CEV_segment_L_primer_sets.csv\",\n",
        "  \"https://raw.githubusercontent.com/yyw-informatics/MSSPE_datasets/main/primer_sets/raw_data_from_paper/CEV_segment_M_primer_sets.csv\",\n",
        "  \"https://raw.githubusercontent.com/yyw-informatics/MSSPE_datasets/main/primer_sets/raw_data_from_paper/CEV_segment_S_primer_sets.csv\",\n",
        "  \"https://raw.githubusercontent.com/yyw-informatics/MSSPE_datasets/main/primer_sets/raw_data_from_paper/CHIKV_primer_sets.csv\",\n",
        "  \"https://raw.githubusercontent.com/yyw-informatics/MSSPE_datasets/main/primer_sets/raw_data_from_paper/DENV_primer_sets.csv\",\n",
        "  \"https://raw.githubusercontent.com/yyw-informatics/MSSPE_datasets/main/primer_sets/raw_data_from_paper/EBOV_primer_sets.csv\",\n",
        "  \"https://raw.githubusercontent.com/yyw-informatics/MSSPE_datasets/main/primer_sets/raw_data_from_paper/HCV_primer_sets.csv\",\n",
        "  \"https://raw.githubusercontent.com/yyw-informatics/MSSPE_datasets/main/primer_sets/raw_data_from_paper/HEV_primer_sets.csv\",\n",
        "  \"https://raw.githubusercontent.com/yyw-informatics/MSSPE_datasets/main/primer_sets/raw_data_from_paper/HIV_primer_sets.csv\",\n",
        "  \"https://raw.githubusercontent.com/yyw-informatics/MSSPE_datasets/main/primer_sets/raw_data_from_paper/LASV_segment_L.csv\",\n",
        "  \"https://raw.githubusercontent.com/yyw-informatics/MSSPE_datasets/main/primer_sets/raw_data_from_paper/LASV_segment_S.csv\",\n",
        "  \"https://raw.githubusercontent.com/yyw-informatics/MSSPE_datasets/main/primer_sets/raw_data_from_paper/MARV_primer_sets.csv\",\n",
        "  \"https://raw.githubusercontent.com/yyw-informatics/MSSPE_datasets/main/primer_sets/raw_data_from_paper/MEAV_primers.csv\",\n",
        "  \"https://raw.githubusercontent.com/yyw-informatics/MSSPE_datasets/main/primer_sets/raw_data_from_paper/RVF_segment_L_primer_sets.csv\",\n",
        "  \"https://raw.githubusercontent.com/yyw-informatics/MSSPE_datasets/main/primer_sets/raw_data_from_paper/RVF_segment_M.csv\",\n",
        "  \"https://raw.githubusercontent.com/yyw-informatics/MSSPE_datasets/main/primer_sets/raw_data_from_paper/RVF_segment_S_primer_sets.csv\",\n",
        "  \"https://raw.githubusercontent.com/yyw-informatics/MSSPE_datasets/main/primer_sets/raw_data_from_paper/WNV_primer_sets.csv\",\n",
        "  \"https://raw.githubusercontent.com/yyw-informatics/MSSPE_datasets/main/primer_sets/raw_data_from_paper/YFV_primer_sets.csv\")"
      ],
      "metadata": {
        "id": "xr_trgwb0_H1"
      },
      "execution_count": 72,
      "outputs": []
    },
    {
      "cell_type": "markdown",
      "source": [
        "The first substring describing the pathogen and number of sequences have different lengths, but the positions are fixed when reading backwards"
      ],
      "metadata": {
        "id": "h8-PHxTIFKhu"
      }
    },
    {
      "cell_type": "code",
      "source": [
        "for (c in 1:length(csv_list)){\n",
        "  p <- read.csv(csv_list[c]) %>% as.data.frame()\n",
        "  colnames(p) <- c(\"labels\",\"primers\")\n",
        "  labels <- stringi::stri_reverse(p$labels)\n",
        "  p$labels <- stringi::stri_reverse(sub(\"^([^_]*_[^_]*_[^_]*_[^_]*_[^_]*_[^_]*_[^_]*_[^_]*_[^_]*_[^_]*).*\", \"\\\\1\", labels))\n",
        "  pp <- p %>% \n",
        "      tidyr::separate(labels, sep = \"_\", into = c(\"position_on_alignment\",\"direction\",\"gc_label\",\"gc\",\"avg_label\",\"avg\",\"std_label\",\"std\",\"tm_label\",\"tm\")) %>% select(\"direction\",\"primers\",\"position_on_alignment\",\"gc\",\"avg\",\"std\",\"tm\")   \n",
        "  write.csv(pp, basename(csv_list[c]))\n",
        "  cat(basename(csv_list[c]), \" saved.\")\n",
        "}"
      ],
      "metadata": {
        "colab": {
          "base_uri": "https://localhost:8080/"
        },
        "id": "XojQBNXt2-kM",
        "outputId": "10b4213c-e250-43a4-edba-ff7da4e4c341"
      },
      "execution_count": 73,
      "outputs": [
        {
          "output_type": "stream",
          "name": "stdout",
          "text": [
            "CCHF_segment_L_primer_sets.csv  saved.CCHF_segment_M_primer_sets.csv  saved.CCHF_segment_S_primer_sets.csv  saved.CEV_segment_L_primer_sets.csv  saved.CEV_segment_M_primer_sets.csv  saved.CEV_segment_S_primer_sets.csv  saved.CHIKV_primer_sets.csv  saved.DENV_primer_sets.csv  saved.EBOV_primer_sets.csv  saved.HCV_primer_sets.csv  saved.HEV_primer_sets.csv  saved.HIV_primer_sets.csv  saved.LASV_segment_L.csv  saved.LASV_segment_S.csv  saved.MARV_primer_sets.csv  saved.MEAV_primers.csv  saved.RVF_segment_L_primer_sets.csv  saved.RVF_segment_M.csv  saved.RVF_segment_S_primer_sets.csv  saved.WNV_primer_sets.csv  saved.YFV_primer_sets.csv  saved."
          ]
        }
      ]
    },
    {
      "cell_type": "code",
      "source": [
        "system(\"zip -q MSSPE-primers.zip *.csv\", intern = TRUE)"
      ],
      "metadata": {
        "colab": {
          "base_uri": "https://localhost:8080/",
          "height": 17
        },
        "id": "3qe3jaxN5i9P",
        "outputId": "124e1290-400a-4f98-9d10-a5c1625e8575"
      },
      "execution_count": 74,
      "outputs": [
        {
          "output_type": "display_data",
          "data": {
            "text/html": [
              ""
            ],
            "text/markdown": "",
            "text/latex": "",
            "text/plain": [
              "character(0)"
            ]
          },
          "metadata": {}
        }
      ]
    },
    {
      "cell_type": "code",
      "source": [
        "system(\"rm -r *.csv\", intern = TRUE)"
      ],
      "metadata": {
        "colab": {
          "base_uri": "https://localhost:8080/",
          "height": 17
        },
        "id": "gh9Pr6qMEsDi",
        "outputId": "c8907139-1b7d-4c04-8645-ab67733a6002"
      },
      "execution_count": 75,
      "outputs": [
        {
          "output_type": "display_data",
          "data": {
            "text/html": [
              ""
            ],
            "text/markdown": "",
            "text/latex": "",
            "text/plain": [
              "character(0)"
            ]
          },
          "metadata": {}
        }
      ]
    }
  ]
}